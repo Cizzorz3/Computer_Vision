{
 "cells": [
  {
   "cell_type": "code",
   "execution_count": 5,
   "id": "b0e59d76",
   "metadata": {},
   "outputs": [],
   "source": [
    "import cv2\n",
    "import numpy as np\n",
    "\n",
    "#Variables\n",
    "drawing=False ## will become true if the button is clicked \n",
    "ix=-1\n",
    "iy=-1\n",
    "\n",
    "## function to draw a circle\n",
    "\n",
    "def draw_rectangle(event,x,y,flags,param):\n",
    "    global ix,iy,drawing ## global to change them\n",
    "    if event == cv2.EVENT_LBUTTONDOWN:\n",
    "        drawing= True\n",
    "        ix,iy=x,y\n",
    "    elif event ==cv2.EVENT_MOUSEMOVE:\n",
    "        if drawing ==True:\n",
    "            ##we have two points because one is the position at the click and the second when finished clicking \n",
    "            cv2.rectangle(img,(ix,iy),(x,y),(0,255,0),-1)\n",
    "    elif event == cv2.EVENT_LBUTTONUP:\n",
    "        drawing=False\n",
    "        cv2.rectangle(img,(ix,iy),(x,y),(0,255,0),-1)\n",
    "        \n",
    "        \n",
    "cv2.namedWindow(winname='my_drawing')\n",
    "cv2.setMouseCallback('my_drawing',draw_rectangle)\n",
    "\n",
    "\n",
    "### show img with opencv\n",
    "## np.int8 to make image more gray\n",
    "img=np.zeros((512,512,3))\n",
    "\n",
    "while True :\n",
    "    cv2.imshow('my_drawing',img)\n",
    "    if cv2.waitKey(1)& 0xFF == 27:\n",
    "        break\n",
    "cv2.destroyAllWindows()"
   ]
  },
  {
   "cell_type": "code",
   "execution_count": null,
   "id": "6ad176cd",
   "metadata": {},
   "outputs": [],
   "source": []
  }
 ],
 "metadata": {
  "kernelspec": {
   "display_name": "Python 3 (ipykernel)",
   "language": "python",
   "name": "python3"
  },
  "language_info": {
   "codemirror_mode": {
    "name": "ipython",
    "version": 3
   },
   "file_extension": ".py",
   "mimetype": "text/x-python",
   "name": "python",
   "nbconvert_exporter": "python",
   "pygments_lexer": "ipython3",
   "version": "3.10.2"
  }
 },
 "nbformat": 4,
 "nbformat_minor": 5
}
